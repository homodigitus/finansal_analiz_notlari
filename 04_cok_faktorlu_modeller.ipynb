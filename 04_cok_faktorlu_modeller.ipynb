{
 "cells": [
  {
   "cell_type": "markdown",
   "metadata": {},
   "source": [
    "# Çok Faktörlü Modeller"
   ]
  },
  {
   "cell_type": "markdown",
   "metadata": {},
   "source": [
    "Bu modellerin arkasındaki fikir, belirli bir portföyün veya varlığın fazla getirilerini (risksiz oran üzerinden) bir veya daha fazla faktör (özellik) kullanarak açıklamaktır. Bu risk faktörleri (beklenen) getirilerin kesitini(cross-section) anlamak için bir araç olarak düşünülebilir.\n",
    "\n",
    "Genel olarak, yatırım portföyüne eklenebilecek ilginç varlıkları tanımlamak için faktör modelleri kullanılabilir ve bu da daha iyi performans gösteren portföylere yol açar.\n",
    "\n",
    "Bu başlıkta ele alınacaklar:\n",
    "\n",
    "* Sermaye Varlıkları Fiyatlandırma Modeli(Capital Asset Pricing Model-CAPM)\n",
    "* Fama-French üç faktörlü model\n",
    "* Varlık portfolyosu üzerinde hareketli üç faktör modeli\n",
    "* Dört ve beş faktörlü modeller"
   ]
  },
  {
   "cell_type": "markdown",
   "metadata": {},
   "source": [
    "# 1. Sermaye Varlık Fiyatlama Modeli-SVFM (Capital Asset Pricing Model-CAPM)"
   ]
  },
  {
   "cell_type": "markdown",
   "metadata": {},
   "source": [
    "Popüler SVFM tahmini ve beta katsayılarının elde edilmesine odaklanılacak. Bu model, bir riskli varlığın beklenen getirisi ile piyasa riski (sistematik veya indirgenemez risk olarak da bilinir) arasındaki ilişkiyi temsil eder. SVFM, daha karmaşık faktör modellerinin oluşturulduğu tek faktörlü bir model olarak düşünülebilir.\n",
    "\n",
    "SVFM modelini aşağıdaki eşitlikle gösterebiliriz:\n",
    "\n",
    "$$E\\left(r_{i}\\right)=r_{f}+\\beta_{i}\\left(E\\left(r_{m}\\right)-r_{f}\\right)$$\n",
    "\n",
    "Burada $E\\left(r_{i}\\right)$, $i$ varlığı için beklenen getiriyi, $r_{f}$ riskten bağımsız faiz oranı(devlet tahvili gibi), $E\\left(r_{m}\\right)$ piyasadakii beklenen getiri, $\\beta_{i}$ beta katsayısıdır. \n",
    "\n",
    "Beta, genel olarak piyasaya kıyasla varlık getirisinin hassasiyet seviyesi olarak yorumlanabilir. Bazı olası örnekler şunları içerir:\n",
    "\n",
    "* `beta <= -1`: Varlık, karşılaştırma ölçütü olarak ters yönde ve karşılaştırmalı değerlendirmenin negatifinden daha büyük bir miktarda hareket eder.\n",
    "* `-1 < beta < 0`: Varlık, karşılaştırmalı değerlendirmenin tersi yönde hareket eder.\n",
    "* `beta = 0`: Varlığın fiyat hareketi ile piyasa karşılaştırması arasında bir ilişki yoktur.\n",
    "* `0 <beta <1`: Varlık, piyasa ile aynı yönde hareket eder, ancak miktar daha küçüktür. Günlük dalgalanmalara pek duyarlı olmayan bir şirketin hisse senedi buna örnek gösterilebilir.\n",
    "* `beta = 1`: Varlık ve piyasa aynı yönde aynı miktarda hareket ediyor.\n",
    "* `beta> 1`: Varlık, piyasa ile aynı yönde hareket eder, ancak tutar daha fazladır. Günlük piyasa haberlerine çok duyarlı bir şirketin hisse senedi buna örnek gösterilebilir."
   ]
  },
  {
   "cell_type": "markdown",
   "metadata": {},
   "source": [
    "SVFM aşağıdaki gibi de yazılabilir:\n",
    "\n",
    "$$E\\left(r_{i}\\right)-r_{f}=\\beta_{i}\\left(E\\left(r_{m}\\right)-r_{f}\\right)$$\n",
    "\n",
    "Burada, denklemin sol tarafı risk primi(risk premium) olarak yorumlanırken, sağ tarafı piyasa primini(market premium) içerir. Eşitlik aşağıdaki gibi yeniden yazılabilir:\n",
    "\n",
    "$$\\beta=\\frac{\\operatorname{cov}\\left(R_{i}, R_{m}\\right)}{\\operatorname{var}\\left(R_{m}\\right)}$$\n",
    "\n",
    "Burada $R_{i}=E\\left(r_{i}\\right)-r_{f}$ and $R_{m}=E\\left(r_{m}\\right)-r_{\\mathrm{f}}$ şeklindedir.\n",
    "\n",
    "Buradaki örnekte, Amazon örneğini ele alıyoruz ve S&P 500 endeksinin piyasayı temsil ettiğini varsayıyoruz. Beta'yı tahmin etmek için 5 yıllık (2014-2018) aylık veriler kullanıyoruz. Mevcut zamanlarda, risksiz oran o kadar düşük ki, basitlik olarak, sıfıra eşit olduğunu varsayıyoruz."
   ]
  },
  {
   "cell_type": "code",
   "execution_count": 1,
   "metadata": {
    "ExecuteTime": {
     "end_time": "2020-03-24T09:00:30.237024Z",
     "start_time": "2020-03-24T09:00:23.016183Z"
    }
   },
   "outputs": [],
   "source": [
    "# kütüphaneler\n",
    "%matplotlib inline\n",
    "%config InlineBackend.figure_format = 'retina'\n",
    "\n",
    "# matplotlib\n",
    "import matplotlib.pyplot as plt\n",
    "import warnings\n",
    "\n",
    "plt.style.use('seaborn')\n",
    "# plt.style.use('seaborn-colorblind') #alternative\n",
    "plt.rcParams['figure.figsize'] = [8, 4.5]\n",
    "plt.rcParams['figure.dpi'] = 300\n",
    "warnings.simplefilter(action='ignore', category=FutureWarning)\n",
    "\n",
    "# dataset\n",
    "import pandas as pd\n",
    "import yfinance as yf\n",
    "import statsmodels.api as sm"
   ]
  },
  {
   "cell_type": "markdown",
   "metadata": {},
   "source": [
    "Riskli varlık ve zaman periyodu:"
   ]
  },
  {
   "cell_type": "code",
   "execution_count": 2,
   "metadata": {
    "ExecuteTime": {
     "end_time": "2020-03-24T09:00:32.421316Z",
     "start_time": "2020-03-24T09:00:32.416431Z"
    }
   },
   "outputs": [],
   "source": [
    "RISKY_ASSET = 'AMZN'\n",
    "MARKET_BENCHMARK = '^GSPC'\n",
    "START_DATE = '2014-01-01'\n",
    "END_DATE = '2018-12-31'"
   ]
  },
  {
   "cell_type": "markdown",
   "metadata": {},
   "source": [
    "Yahoo finanstan verinin alınması:"
   ]
  },
  {
   "cell_type": "code",
   "execution_count": 3,
   "metadata": {
    "ExecuteTime": {
     "end_time": "2020-03-24T09:02:08.019464Z",
     "start_time": "2020-03-24T09:00:35.734441Z"
    }
   },
   "outputs": [],
   "source": [
    "df = yf.download([RISKY_ASSET, MARKET_BENCHMARK],\n",
    "                 start=START_DATE,\n",
    "                 end=END_DATE,\n",
    "                 adjusted=True,\n",
    "                 progress=False)"
   ]
  },
  {
   "cell_type": "markdown",
   "metadata": {
    "ExecuteTime": {
     "end_time": "2020-03-24T09:02:10.814326Z",
     "start_time": "2020-03-24T09:02:10.802692Z"
    }
   },
   "source": [
    "Günlük verinin aylıkveriye dönüştürülmesi ve basit getirilerin hesaplanması:"
   ]
  },
  {
   "cell_type": "code",
   "execution_count": 4,
   "metadata": {},
   "outputs": [
    {
     "data": {
      "text/html": [
       "<div>\n",
       "<style scoped>\n",
       "    .dataframe tbody tr th:only-of-type {\n",
       "        vertical-align: middle;\n",
       "    }\n",
       "\n",
       "    .dataframe tbody tr th {\n",
       "        vertical-align: top;\n",
       "    }\n",
       "\n",
       "    .dataframe thead th {\n",
       "        text-align: right;\n",
       "    }\n",
       "</style>\n",
       "<table border=\"1\" class=\"dataframe\">\n",
       "  <thead>\n",
       "    <tr style=\"text-align: right;\">\n",
       "      <th></th>\n",
       "      <th>asset</th>\n",
       "      <th>market</th>\n",
       "    </tr>\n",
       "    <tr>\n",
       "      <th>Date</th>\n",
       "      <th></th>\n",
       "      <th></th>\n",
       "    </tr>\n",
       "  </thead>\n",
       "  <tbody>\n",
       "    <tr>\n",
       "      <th>2014-01-31</th>\n",
       "      <td>-0.100554</td>\n",
       "      <td>-0.035583</td>\n",
       "    </tr>\n",
       "    <tr>\n",
       "      <th>2014-02-28</th>\n",
       "      <td>0.009507</td>\n",
       "      <td>0.043117</td>\n",
       "    </tr>\n",
       "    <tr>\n",
       "      <th>2014-03-31</th>\n",
       "      <td>-0.071058</td>\n",
       "      <td>0.006932</td>\n",
       "    </tr>\n",
       "    <tr>\n",
       "      <th>2014-04-30</th>\n",
       "      <td>-0.095847</td>\n",
       "      <td>0.006201</td>\n",
       "    </tr>\n",
       "    <tr>\n",
       "      <th>2014-05-31</th>\n",
       "      <td>0.027685</td>\n",
       "      <td>0.021030</td>\n",
       "    </tr>\n",
       "  </tbody>\n",
       "</table>\n",
       "</div>"
      ],
      "text/plain": [
       "               asset    market\n",
       "Date                          \n",
       "2014-01-31 -0.100554 -0.035583\n",
       "2014-02-28  0.009507  0.043117\n",
       "2014-03-31 -0.071058  0.006932\n",
       "2014-04-30 -0.095847  0.006201\n",
       "2014-05-31  0.027685  0.021030"
      ]
     },
     "execution_count": 4,
     "metadata": {},
     "output_type": "execute_result"
    }
   ],
   "source": [
    "X = df['Adj Close'].rename(columns={RISKY_ASSET: 'asset', \n",
    "                                    MARKET_BENCHMARK: 'market'}) \\\n",
    "                   .resample('M') \\\n",
    "                   .last() \\\n",
    "                   .pct_change() \\\n",
    "                   .dropna()\n",
    "X.head()"
   ]
  },
  {
   "cell_type": "markdown",
   "metadata": {},
   "source": [
    "Kovaryans yaklaşımı ile `beta`nın hesaplanması:"
   ]
  },
  {
   "cell_type": "code",
   "execution_count": 5,
   "metadata": {},
   "outputs": [],
   "source": [
    "covariance = X.cov().iloc[0,1]\n",
    "benchmark_variance = X.market.var()\n",
    "beta = covariance / benchmark_variance"
   ]
  },
  {
   "cell_type": "code",
   "execution_count": 6,
   "metadata": {},
   "outputs": [
    {
     "name": "stdout",
     "output_type": "stream",
     "text": [
      "The result of the code is beta = 1.6709216959340019\n"
     ]
    }
   ],
   "source": [
    "print(f\"The result of the code is beta = {beta}\")"
   ]
  },
  {
   "cell_type": "markdown",
   "metadata": {},
   "source": [
    "Girdinin hazırlanıp SVFM nin doğrusal regresyon olarak tahmin edilmesi: "
   ]
  },
  {
   "cell_type": "code",
   "execution_count": 7,
   "metadata": {},
   "outputs": [
    {
     "name": "stdout",
     "output_type": "stream",
     "text": [
      "                            OLS Regression Results                            \n",
      "==============================================================================\n",
      "Dep. Variable:                  asset   R-squared:                       0.381\n",
      "Model:                            OLS   Adj. R-squared:                  0.370\n",
      "Method:                 Least Squares   F-statistic:                     35.63\n",
      "Date:                Tue, 24 Mar 2020   Prob (F-statistic):           1.53e-07\n",
      "Time:                        18:34:13   Log-Likelihood:                 76.708\n",
      "No. Observations:                  60   AIC:                            -149.4\n",
      "Df Residuals:                      58   BIC:                            -145.2\n",
      "Df Model:                           1                                         \n",
      "Covariance Type:            nonrobust                                         \n",
      "==============================================================================\n",
      "                 coef    std err          t      P>|t|      [0.025      0.975]\n",
      "------------------------------------------------------------------------------\n",
      "const          0.0165      0.009      1.842      0.071      -0.001       0.035\n",
      "market         1.6709      0.280      5.969      0.000       1.111       2.231\n",
      "==============================================================================\n",
      "Omnibus:                        3.375   Durbin-Watson:                   1.836\n",
      "Prob(Omnibus):                  0.185   Jarque-Bera (JB):                2.673\n",
      "Skew:                           0.508   Prob(JB):                        0.263\n",
      "Kurtosis:                       3.194   Cond. No.                         31.6\n",
      "==============================================================================\n",
      "\n",
      "Warnings:\n",
      "[1] Standard Errors assume that the covariance matrix of the errors is correctly specified.\n"
     ]
    }
   ],
   "source": [
    "y = X.pop('asset')\n",
    "X = sm.add_constant(X)\n",
    "\n",
    "capm_model = sm.OLS(y, X).fit()\n",
    "print(capm_model.summary())"
   ]
  },
  {
   "cell_type": "markdown",
   "metadata": {},
   "source": [
    "Bu sonuçlar, beta'nın (burada piyasa olarak ifade edilir) 1,67'ye eşit olduğunu gösterir, bu da Amazon'un getirilerinin piyasadan %67 daha volatil olduğu anlamına gelir (S&P 500 ile temsil edilir). Sabitin değeri nispeten küçüktür ve %5 anlamlılık düzeyinde istatistiksel olarak anlamsızdır."
   ]
  },
  {
   "cell_type": "markdown",
   "metadata": {},
   "source": [
    "Örnekte, bugünlerde yapmak için makul bir varsayım olan risksiz bir oran olmadığı varsayılmıştır. Bununla birlikte, sıfır olmayan risksiz bir oranı açıklamak istediğimiz durumlar olabilir. Burada üç olası yaklaşım sunulmaktadır:\n",
    "\n",
    "* Kenneth French'in sitesindeki veriyi kullanarak: Piyasa primi $\\left(r_{m}-r_{f}\\right)$ ve riskten bağımsız faiz oranı(hazine bonosuyla yakınsar) siteden indirilebilir.\n",
    "* İkinci seçenek, örneğin 13 Haftalık (3 aylık) Hazine Bonosu (Yahoo finans senedi: `^IRX`) ile risksiz oranı yaklaşık olarak belirlemektir."
   ]
  },
  {
   "cell_type": "markdown",
   "metadata": {},
   "source": [
    "Gün bazında periyodun belirlenmesi:"
   ]
  },
  {
   "cell_type": "code",
   "execution_count": 8,
   "metadata": {},
   "outputs": [],
   "source": [
    "N_DAYS = 90"
   ]
  },
  {
   "cell_type": "markdown",
   "metadata": {},
   "source": [
    "Verinin yahoo finance tan indirilmesi:"
   ]
  },
  {
   "cell_type": "code",
   "execution_count": 9,
   "metadata": {},
   "outputs": [
    {
     "name": "stdout",
     "output_type": "stream",
     "text": [
      "[*********************100%***********************]  1 of 1 completed\n"
     ]
    }
   ],
   "source": [
    "df_rf = yf.download('^IRX', start=START_DATE, end=END_DATE)"
   ]
  },
  {
   "cell_type": "markdown",
   "metadata": {},
   "source": [
    "Verinin aylık formata dönüştürülmesi:"
   ]
  },
  {
   "cell_type": "code",
   "execution_count": 10,
   "metadata": {},
   "outputs": [],
   "source": [
    "rf = df_rf.resample('M').last().Close / 100"
   ]
  },
  {
   "cell_type": "markdown",
   "metadata": {},
   "source": [
    "Riskten bağımsız günlük getirilerin hesaplanıp aylık formata dönüştürülmesi:"
   ]
  },
  {
   "cell_type": "code",
   "execution_count": 11,
   "metadata": {},
   "outputs": [],
   "source": [
    "rf = ( 1 / (1 - rf * N_DAYS / 360) )**(1 / N_DAYS)\n",
    "rf = (rf ** 30) - 1"
   ]
  },
  {
   "cell_type": "markdown",
   "metadata": {},
   "source": [
    "Hesaplanan riskten bağımsız oranın çizdirilmesi:"
   ]
  },
  {
   "cell_type": "code",
   "execution_count": 12,
   "metadata": {},
   "outputs": [
    {
     "data": {
      "text/plain": [
       "<matplotlib.axes._subplots.AxesSubplot at 0x2995241ad30>"
      ]
     },
     "execution_count": 12,
     "metadata": {},
     "output_type": "execute_result"
    },
    {
     "data": {
      "image/png": "[encoded data removed]",
      "text/plain": [
       "<Figure size 432x288 with 1 Axes>"
      ]
     },
     "metadata": {
      "image/png": {
       "height": 277,
       "width": 392
      },
      "needs_background": "light"
     },
     "output_type": "display_data"
    }
   ],
   "source": [
    "rf.plot(title='Risk-free rate (13 Week Treasury Bill)')"
   ]
  },
  {
   "cell_type": "markdown",
   "metadata": {},
   "source": [
    "* Son yaklaşım, Federal Rezerv Ekonomik Veriler (FRED) veritabanından indirilebilen 3 Aylık Hazine Bonosu (İkincil Piyasa Faiz Oranı) kullanarak risksiz oranı yaklaşık olarak belirlemektir. Verileri nasıl indireceğinizi ve aylık risksiz bir orana nasıl dönüştüreceğinizi öğrenmek için aşağıdaki adımlar izlenebilir."
   ]
  },
  {
   "cell_type": "markdown",
   "metadata": {},
   "source": [
    "Kütüphanenin çağırılması:"
   ]
  },
  {
   "cell_type": "code",
   "execution_count": 13,
   "metadata": {},
   "outputs": [],
   "source": [
    "import pandas_datareader.data as web"
   ]
  },
  {
   "cell_type": "markdown",
   "metadata": {},
   "source": [
    "FRED veritabanından verinin indirilmesi:"
   ]
  },
  {
   "cell_type": "code",
   "execution_count": 14,
   "metadata": {},
   "outputs": [],
   "source": [
    "rf = web.DataReader('TB3MS', 'fred', start=START_DATE, end=END_DATE)"
   ]
  },
  {
   "cell_type": "markdown",
   "metadata": {},
   "source": [
    "Riskten bağımsız faiz oranının aylık formata dönüştürülmesi:"
   ]
  },
  {
   "cell_type": "code",
   "execution_count": 15,
   "metadata": {},
   "outputs": [],
   "source": [
    "rf = (1 + (rf / 100)) ** (1 / 12) - 1"
   ]
  },
  {
   "cell_type": "markdown",
   "metadata": {},
   "source": [
    "Hesaplanan oranın çizdirilmesi:"
   ]
  },
  {
   "cell_type": "code",
   "execution_count": 16,
   "metadata": {},
   "outputs": [
    {
     "data": {
      "text/plain": [
       "<matplotlib.axes._subplots.AxesSubplot at 0x2995246d940>"
      ]
     },
     "execution_count": 16,
     "metadata": {},
     "output_type": "execute_result"
    },
    {
     "data": {
      "image/png": "[encoded data removed]",
      "text/plain": [
       "<Figure size 432x288 with 1 Axes>"
      ]
     },
     "metadata": {
      "image/png": {
       "height": 277,
       "width": 392
      },
      "needs_background": "light"
     },
     "output_type": "display_data"
    }
   ],
   "source": [
    "rf.plot(title='Risk-free rate (3-Month Treasury Bill)')"
   ]
  },
  {
   "cell_type": "markdown",
   "metadata": {},
   "source": [
    "# 2. Fama-French Üç Faktör Modeli"
   ]
  },
  {
   "cell_type": "markdown",
   "metadata": {},
   "source": [
    "Popüler makalelerinde Fama ve Fransız, bir varlık veya portföyün aşırı getirisini açıklayan iki ek faktör ekleyerek SVFM modelini genişletti. Düşündükleri faktörler:\n",
    "\n",
    "* **Piyasa faktörü (MKT)**: SVFM'dekine benzeyen pazarın aşırı geri dönüşünü ölçer.\n",
    "* **Boyut faktörü, SMB (Küçük Eksi Büyük)**: Küçük bir piyasa değeri olan hisse senetlerinin büyük bir piyasa değeri olan hisse senetlerinin aşırı getirisini ölçer.\n",
    "* **Değer faktörü, HML (Yüksek Eksi Düşük)**: Büyüme stokları üzerinden değer stoklarının aşırı geri dönüşünü ölçer. Değer stokları yüksek bir piyasa / piyasa oranına sahipken, büyüme stokları düşük bir oranla karakterize edilir."
   ]
  },
  {
   "cell_type": "markdown",
   "metadata": {},
   "source": [
    "Model aşağıdaki gibi gösterilebilir:\n",
    "\n",
    "$$E\\left(r_{i}\\right)=r_{f}+\\alpha+\\beta_{m k t}\\left(E\\left(r_{m}\\right)-r_{f}\\right)+\\beta_{s m b} S M B+\\beta_{h m l} H M L$$\n",
    "\n",
    "Ya da daha basit biçimiyle:\n",
    "\n",
    "$$E\\left(r_{i}\\right)-r_{f}=\\alpha+\\beta_{m k t} M K T+\\beta_{s m b} S M B+\\beta_{h m l} H M L$$\n",
    "\n",
    "Burada $E\\left(r_{i}\\right)$, i-inci varlık için getiriyi, $r_{f}$ riskten bağımsız faiz oranını ve $\\alpha$ sabiti göstermektedir. Sabit bir katasyı eklemenin nedeni, değerinin 0'a eşit olmasını sağlamaktır.\n",
    "\n",
    "Bu yaklaşımın popülaritesi nedeniyle, bu faktörler topluca Fama-Fransız Faktörleri veya Üç Faktörlü Model olarak bilinmektedir. Akademi ve endüstride borsa ölçütleri olarak geniş çapta kabul görmüşlerdir ve genellikle yatırım performansını değerlendirmek için kullanılırlar.\n",
    "\n",
    "Burada, üç faktörlü modeli Facebook için 5 yıllık (2014-2018) aylık getiri kullanarak tahmin dilmektedir."
   ]
  },
  {
   "cell_type": "markdown",
   "metadata": {},
   "source": [
    "Kütüphanelerin çağırılması:"
   ]
  },
  {
   "cell_type": "code",
   "execution_count": 17,
   "metadata": {},
   "outputs": [],
   "source": [
    "import pandas as pd\n",
    "import yfinance as yf\n",
    "import statsmodels.formula.api as smf"
   ]
  },
  {
   "cell_type": "markdown",
   "metadata": {},
   "source": [
    "Verisetinin indirilmesi:"
   ]
  },
  {
   "cell_type": "code",
   "execution_count": 20,
   "metadata": {},
   "outputs": [],
   "source": [
    "url = \"https://raw.githubusercontent.com/erykml/Python-for-Finance-Cookbook/master/Chapter%2004/F-F_Research_Data_Factors.CSV\"\n",
    "factor_df = pd.read_csv(url, skiprows=3)"
   ]
  },
  {
   "cell_type": "markdown",
   "metadata": {},
   "source": [
    "Parametreler:"
   ]
  },
  {
   "cell_type": "code",
   "execution_count": 21,
   "metadata": {},
   "outputs": [],
   "source": [
    "RISKY_ASSET = 'FB'\n",
    "START_DATE = '2013-12-31'\n",
    "END_DATE = '2018-12-31'"
   ]
  },
  {
   "cell_type": "markdown",
   "metadata": {},
   "source": [
    "Aylık veri:"
   ]
  },
  {
   "cell_type": "code",
   "execution_count": 22,
   "metadata": {},
   "outputs": [],
   "source": [
    "# identify where the annual data starts\n",
    "STR_TO_MATCH = ' Annual Factors: January-December '\n",
    "indices = factor_df.iloc[:, 0] == STR_TO_MATCH\n",
    "start_of_annual = factor_df[indices].index[0]\n",
    "\n",
    "# keep only monthly data\n",
    "factor_df = factor_df[factor_df.index < start_of_annual]"
   ]
  },
  {
   "cell_type": "markdown",
   "metadata": {},
   "source": [
    "Kolon isimlerinin değiştirilmesi ve filtreleme:"
   ]
  },
  {
   "cell_type": "code",
   "execution_count": 23,
   "metadata": {},
   "outputs": [],
   "source": [
    "# rename columns\n",
    "factor_df.columns = ['date', 'mkt', 'smb', 'hml', 'rf']\n",
    "\n",
    "# convert strings to datetime\n",
    "factor_df['date'] = pd.to_datetime(factor_df['date'], \n",
    "                                   format='%Y%m') \\\n",
    "                      .dt.strftime(\"%Y-%m\")\n",
    "\n",
    "# set index\n",
    "factor_df = factor_df.set_index('date')\n",
    "\n",
    "# filter only required dates\n",
    "factor_df = factor_df.loc[START_DATE:END_DATE]"
   ]
  },
  {
   "cell_type": "markdown",
   "metadata": {},
   "source": [
    "Değerlerin sayısal yapılıp 100'e bölünmesi:"
   ]
  },
  {
   "cell_type": "code",
   "execution_count": 24,
   "metadata": {},
   "outputs": [
    {
     "data": {
      "text/html": [
       "<div>\n",
       "<style scoped>\n",
       "    .dataframe tbody tr th:only-of-type {\n",
       "        vertical-align: middle;\n",
       "    }\n",
       "\n",
       "    .dataframe tbody tr th {\n",
       "        vertical-align: top;\n",
       "    }\n",
       "\n",
       "    .dataframe thead th {\n",
       "        text-align: right;\n",
       "    }\n",
       "</style>\n",
       "<table border=\"1\" class=\"dataframe\">\n",
       "  <thead>\n",
       "    <tr style=\"text-align: right;\">\n",
       "      <th></th>\n",
       "      <th>mkt</th>\n",
       "      <th>smb</th>\n",
       "      <th>hml</th>\n",
       "      <th>rf</th>\n",
       "    </tr>\n",
       "    <tr>\n",
       "      <th>date</th>\n",
       "      <th></th>\n",
       "      <th></th>\n",
       "      <th></th>\n",
       "      <th></th>\n",
       "    </tr>\n",
       "  </thead>\n",
       "  <tbody>\n",
       "    <tr>\n",
       "      <th>2014-01</th>\n",
       "      <td>-0.0332</td>\n",
       "      <td>0.0085</td>\n",
       "      <td>-0.0209</td>\n",
       "      <td>0.0</td>\n",
       "    </tr>\n",
       "    <tr>\n",
       "      <th>2014-02</th>\n",
       "      <td>0.0465</td>\n",
       "      <td>0.0034</td>\n",
       "      <td>-0.0040</td>\n",
       "      <td>0.0</td>\n",
       "    </tr>\n",
       "    <tr>\n",
       "      <th>2014-03</th>\n",
       "      <td>0.0043</td>\n",
       "      <td>-0.0189</td>\n",
       "      <td>0.0509</td>\n",
       "      <td>0.0</td>\n",
       "    </tr>\n",
       "    <tr>\n",
       "      <th>2014-04</th>\n",
       "      <td>-0.0019</td>\n",
       "      <td>-0.0424</td>\n",
       "      <td>0.0114</td>\n",
       "      <td>0.0</td>\n",
       "    </tr>\n",
       "    <tr>\n",
       "      <th>2014-05</th>\n",
       "      <td>0.0206</td>\n",
       "      <td>-0.0186</td>\n",
       "      <td>-0.0027</td>\n",
       "      <td>0.0</td>\n",
       "    </tr>\n",
       "  </tbody>\n",
       "</table>\n",
       "</div>"
      ],
      "text/plain": [
       "            mkt     smb     hml   rf\n",
       "date                                \n",
       "2014-01 -0.0332  0.0085 -0.0209  0.0\n",
       "2014-02  0.0465  0.0034 -0.0040  0.0\n",
       "2014-03  0.0043 -0.0189  0.0509  0.0\n",
       "2014-04 -0.0019 -0.0424  0.0114  0.0\n",
       "2014-05  0.0206 -0.0186 -0.0027  0.0"
      ]
     },
     "execution_count": 24,
     "metadata": {},
     "output_type": "execute_result"
    }
   ],
   "source": [
    "factor_df = factor_df.apply(pd.to_numeric, errors='coerce').div(100)\n",
    "factor_df.head()"
   ]
  },
  {
   "cell_type": "markdown",
   "metadata": {},
   "source": [
    "Riskli varlık fiyatları:"
   ]
  },
  {
   "cell_type": "code",
   "execution_count": 25,
   "metadata": {},
   "outputs": [
    {
     "name": "stdout",
     "output_type": "stream",
     "text": [
      "Downloaded 1259 rows of data.\n"
     ]
    }
   ],
   "source": [
    "asset_df = yf.download(RISKY_ASSET,\n",
    "                       start=START_DATE,\n",
    "                       end=END_DATE,\n",
    "                       adjusted=True,\n",
    "                       progress=False)\n",
    "\n",
    "print(f'Downloaded {asset_df.shape[0]} rows of data.')"
   ]
  },
  {
   "cell_type": "markdown",
   "metadata": {},
   "source": [
    "Riskli varlığın aylık getirilerinin hesplanması:"
   ]
  },
  {
   "cell_type": "code",
   "execution_count": 26,
   "metadata": {},
   "outputs": [
    {
     "data": {
      "text/plain": [
       "2014-01    0.144922\n",
       "2014-02    0.094135\n",
       "2014-03   -0.120070\n",
       "2014-04   -0.007636\n",
       "2014-05    0.058883\n",
       "Name: rtn, dtype: float64"
      ]
     },
     "execution_count": 26,
     "metadata": {},
     "output_type": "execute_result"
    }
   ],
   "source": [
    "y = asset_df['Adj Close'].resample('M') \\\n",
    "                         .last() \\\n",
    "                         .pct_change() \\\n",
    "                         .dropna()\n",
    "\n",
    "y.index = y.index.strftime('%Y-%m')\n",
    "y.name = 'rtn'\n",
    "y.head()"
   ]
  },
  {
   "cell_type": "markdown",
   "metadata": {},
   "source": [
    "Verisetlerinin birleştirilip aşırı getirilerin hesaplanması:"
   ]
  },
  {
   "cell_type": "code",
   "execution_count": 27,
   "metadata": {},
   "outputs": [],
   "source": [
    "ff_data = factor_df.join(y)\n",
    "ff_data['excess_rtn'] = ff_data.rtn - ff_data.rf"
   ]
  },
  {
   "cell_type": "markdown",
   "metadata": {},
   "source": [
    "Üç-faktör modelinin tahmin edilmesi:"
   ]
  },
  {
   "cell_type": "code",
   "execution_count": 28,
   "metadata": {},
   "outputs": [
    {
     "name": "stdout",
     "output_type": "stream",
     "text": [
      "                            OLS Regression Results                            \n",
      "==============================================================================\n",
      "Dep. Variable:             excess_rtn   R-squared:                       0.217\n",
      "Model:                            OLS   Adj. R-squared:                  0.175\n",
      "Method:                 Least Squares   F-statistic:                     5.175\n",
      "Date:                Thu, 26 Mar 2020   Prob (F-statistic):            0.00316\n",
      "Time:                        16:39:03   Log-Likelihood:                 88.392\n",
      "No. Observations:                  60   AIC:                            -168.8\n",
      "Df Residuals:                      56   BIC:                            -160.4\n",
      "Df Model:                           3                                         \n",
      "Covariance Type:            nonrobust                                         \n",
      "==============================================================================\n",
      "                 coef    std err          t      P>|t|      [0.025      0.975]\n",
      "------------------------------------------------------------------------------\n",
      "Intercept      0.0105      0.008      1.373      0.175      -0.005       0.026\n",
      "mkt            0.5138      0.237      2.166      0.035       0.039       0.989\n",
      "smb           -0.1618      0.301     -0.538      0.593      -0.765       0.441\n",
      "hml           -0.9604      0.312     -3.074      0.003      -1.586      -0.335\n",
      "==============================================================================\n",
      "Omnibus:                        0.008   Durbin-Watson:                   1.780\n",
      "Prob(Omnibus):                  0.996   Jarque-Bera (JB):                0.150\n",
      "Skew:                          -0.006   Prob(JB):                        0.928\n",
      "Kurtosis:                       2.755   Cond. No.                         44.5\n",
      "==============================================================================\n",
      "\n",
      "Warnings:\n",
      "[1] Standard Errors assume that the covariance matrix of the errors is correctly specified.\n"
     ]
    }
   ],
   "source": [
    "# define and fit the regression model \n",
    "ff_model = smf.ols(formula='excess_rtn ~ mkt + smb + hml', data=ff_data).fit()\n",
    "\n",
    "# print results \n",
    "print(ff_model.summary())"
   ]
  },
  {
   "cell_type": "markdown",
   "metadata": {},
   "source": [
    "Üç faktörlü modelin sonuçlarını yorumlarken iki konuya dikkat etmeliyiz:\n",
    "* Sabitin pozitif ve istatistiksel olarak anlamlı olup olmadığı\n",
    "* Hangi faktörler istatistiksel olarak anlamlıdır ve yönleri geçmiş sonuçlarla uyumludur (örneğin, literatürden) veya varsayımlarımızla eşleşiyorlar mı\n",
    "\n",
    "Buradaki örnekte, sabit pozitiftir, ancak %5 anlamlılık düzeyinde istatistiksel olarak anlamlı değildir. Risk faktörlerinden sadece SMB faktörü önemli değildir. Bununla birlikte, faktörler ve etki yönleri hakkında bir hipotez formüle etmek için kapsamlı bir literatür çalışması gereklidir.\n",
    "\n",
    "Ayrıca, regresyon özetinde sunulan ve regresyonun ortak önemini test eden F-istatistiğine de bakabiliriz. Boş hipotez, sabit hariç tüm özelliklerin (bu durumda faktörler) katsayılarının 0'a eşit değerlere sahip olduğunu belirtir. Karşılık gelen p-değerinin 0.00317 olduğunu görebiliriz, bu da boş hipotezi % 5 önem seviyesinde reddetmemize neden olur."
   ]
  },
  {
   "cell_type": "markdown",
   "metadata": {},
   "source": [
    "Fama-French verisetini githubdan çekmiştik. Şimdi bir de bunu `pandas_datareader` ile nasıl yapılacağına bakalım:"
   ]
  },
  {
   "cell_type": "markdown",
   "metadata": {},
   "source": [
    "Kütüphanelerin çağırılması:"
   ]
  },
  {
   "cell_type": "code",
   "execution_count": 29,
   "metadata": {},
   "outputs": [],
   "source": [
    "from pandas_datareader.famafrench import get_available_datasets\n",
    "import pandas_datareader.data as web"
   ]
  },
  {
   "cell_type": "markdown",
   "metadata": {},
   "source": [
    "Mevcut verisetlerinin görüntülenmesi:"
   ]
  },
  {
   "cell_type": "code",
   "execution_count": 30,
   "metadata": {},
   "outputs": [
    {
     "data": {
      "text/plain": [
       "['F-F_Research_Data_Factors',\n",
       " 'F-F_Research_Data_Factors_weekly',\n",
       " 'F-F_Research_Data_Factors_daily',\n",
       " 'F-F_Research_Data_5_Factors_2x3',\n",
       " 'F-F_Research_Data_5_Factors_2x3_daily']"
      ]
     },
     "execution_count": 30,
     "metadata": {},
     "output_type": "execute_result"
    }
   ],
   "source": [
    "get_available_datasets()[:5]"
   ]
  },
  {
   "cell_type": "markdown",
   "metadata": {},
   "source": [
    "Belirlenen verisetinin çekilmesi:"
   ]
  },
  {
   "cell_type": "code",
   "execution_count": 31,
   "metadata": {},
   "outputs": [],
   "source": [
    "ff_dict = web.DataReader('F-F_Research_Data_Factors', 'famafrench', start='2014-01-01')"
   ]
  },
  {
   "cell_type": "code",
   "execution_count": 32,
   "metadata": {},
   "outputs": [
    {
     "data": {
      "text/plain": [
       "dict_keys([0, 1, 'DESCR'])"
      ]
     },
     "execution_count": 32,
     "metadata": {},
     "output_type": "execute_result"
    }
   ],
   "source": [
    "ff_dict.keys()"
   ]
  },
  {
   "cell_type": "markdown",
   "metadata": {},
   "source": [
    "Verisetinin tanımı:"
   ]
  },
  {
   "cell_type": "code",
   "execution_count": 33,
   "metadata": {},
   "outputs": [
    {
     "name": "stdout",
     "output_type": "stream",
     "text": [
      "F-F Research Data Factors\n",
      "-------------------------\n",
      "\n",
      "This file was created by CMPT_ME_BEME_RETS using the 202002 CRSP database. The 1-month TBill return is from Ibbotson and Associates, Inc. Copyright 2020 Kenneth R. French\n",
      "\n",
      "  0 : (74 rows x 4 cols)\n",
      "  1 : Annual Factors: January-December (6 rows x 4 cols)\n"
     ]
    }
   ],
   "source": [
    "print(ff_dict['DESCR'])"
   ]
  },
  {
   "cell_type": "markdown",
   "metadata": {},
   "source": [
    "Aylık veriseti:"
   ]
  },
  {
   "cell_type": "code",
   "execution_count": 34,
   "metadata": {},
   "outputs": [
    {
     "data": {
      "text/html": [
       "<div>\n",
       "<style scoped>\n",
       "    .dataframe tbody tr th:only-of-type {\n",
       "        vertical-align: middle;\n",
       "    }\n",
       "\n",
       "    .dataframe tbody tr th {\n",
       "        vertical-align: top;\n",
       "    }\n",
       "\n",
       "    .dataframe thead th {\n",
       "        text-align: right;\n",
       "    }\n",
       "</style>\n",
       "<table border=\"1\" class=\"dataframe\">\n",
       "  <thead>\n",
       "    <tr style=\"text-align: right;\">\n",
       "      <th></th>\n",
       "      <th>Mkt-RF</th>\n",
       "      <th>SMB</th>\n",
       "      <th>HML</th>\n",
       "      <th>RF</th>\n",
       "    </tr>\n",
       "    <tr>\n",
       "      <th>Date</th>\n",
       "      <th></th>\n",
       "      <th></th>\n",
       "      <th></th>\n",
       "      <th></th>\n",
       "    </tr>\n",
       "  </thead>\n",
       "  <tbody>\n",
       "    <tr>\n",
       "      <th>2014-01</th>\n",
       "      <td>-3.32</td>\n",
       "      <td>0.85</td>\n",
       "      <td>-2.09</td>\n",
       "      <td>0.0</td>\n",
       "    </tr>\n",
       "    <tr>\n",
       "      <th>2014-02</th>\n",
       "      <td>4.65</td>\n",
       "      <td>0.34</td>\n",
       "      <td>-0.40</td>\n",
       "      <td>0.0</td>\n",
       "    </tr>\n",
       "    <tr>\n",
       "      <th>2014-03</th>\n",
       "      <td>0.43</td>\n",
       "      <td>-1.89</td>\n",
       "      <td>5.09</td>\n",
       "      <td>0.0</td>\n",
       "    </tr>\n",
       "    <tr>\n",
       "      <th>2014-04</th>\n",
       "      <td>-0.19</td>\n",
       "      <td>-4.24</td>\n",
       "      <td>1.14</td>\n",
       "      <td>0.0</td>\n",
       "    </tr>\n",
       "    <tr>\n",
       "      <th>2014-05</th>\n",
       "      <td>2.06</td>\n",
       "      <td>-1.86</td>\n",
       "      <td>-0.27</td>\n",
       "      <td>0.0</td>\n",
       "    </tr>\n",
       "  </tbody>\n",
       "</table>\n",
       "</div>"
      ],
      "text/plain": [
       "         Mkt-RF   SMB   HML   RF\n",
       "Date                            \n",
       "2014-01   -3.32  0.85 -2.09  0.0\n",
       "2014-02    4.65  0.34 -0.40  0.0\n",
       "2014-03    0.43 -1.89  5.09  0.0\n",
       "2014-04   -0.19 -4.24  1.14  0.0\n",
       "2014-05    2.06 -1.86 -0.27  0.0"
      ]
     },
     "execution_count": 34,
     "metadata": {},
     "output_type": "execute_result"
    }
   ],
   "source": [
    "ff_dict[0].head()"
   ]
  },
  {
   "cell_type": "markdown",
   "metadata": {},
   "source": [
    "# 3.Bir Varlık Portfolyosu Üzerinde Hareketli Üç Faktör Modelleri"
   ]
  },
  {
   "cell_type": "markdown",
   "metadata": {},
   "source": [
    "Bu alt-bölümde üç faktörlü modeli hareketli olarak nasıl tahmin edileceği gösterilecektir.. Hareketli ile kastedilen, her zaman sabit büyüklükte bir tahmin penceresini (burada 60 ay) dikkate almamız ve her seferinde bir dönem olmak üzere tüm veri kümesinde hareket ettirmektir. Böyle bir deney yapmanın potansiyel bir nedeni, sonuçların kararlılığını test etmektir.\n",
    "\n",
    "Önceki alt-bölümlerin aksine, bu kez, tek bir varlık yerine portföy getirileri kullanılacaktır. İşleri basitleştirmek için, dağıtma(allocation) stratejimizin, aşağıdaki hisse senetlerinin her birinde toplam portföyün değerinde eşit bir paya sahip olduğunu varsaymak olacak: Amazon, Google, Apple ve Microsoft. Burada, 2010-2018 yıllarına ait hisse senedi fiyatlarını kullanılacaktır."
   ]
  },
  {
   "cell_type": "markdown",
   "metadata": {},
   "source": [
    "Kütüphanelerin çağırılması:"
   ]
  },
  {
   "cell_type": "code",
   "execution_count": 41,
   "metadata": {},
   "outputs": [],
   "source": [
    "import pandas as pd\n",
    "import yfinance as yf\n",
    "import statsmodels.formula.api as smf\n",
    "import pandas_datareader.data as web\n",
    "import numpy as np"
   ]
  },
  {
   "cell_type": "markdown",
   "metadata": {},
   "source": [
    "Parametrelerin tanımlanması:"
   ]
  },
  {
   "cell_type": "code",
   "execution_count": 36,
   "metadata": {},
   "outputs": [],
   "source": [
    "ASSETS = ['AMZN', 'GOOG', 'AAPL', 'MSFT']\n",
    "WEIGHTS = [0.25, 0.25, 0.25, 0.25]\n",
    "START_DATE = '2009-12-31'\n",
    "END_DATE = '2018-12-31'"
   ]
  },
  {
   "cell_type": "markdown",
   "metadata": {},
   "source": [
    "Üç-faktör verisinin alınması:"
   ]
  },
  {
   "cell_type": "code",
   "execution_count": 37,
   "metadata": {},
   "outputs": [],
   "source": [
    "df_three_factor = web.DataReader('F-F_Research_Data_Factors', 'famafrench', start=START_DATE)[0]\n",
    "df_three_factor = df_three_factor.div(100)\n",
    "df_three_factor.index = df_three_factor.index.format()"
   ]
  },
  {
   "cell_type": "markdown",
   "metadata": {},
   "source": [
    "Riskli varlıkların fiyatlarının alınması:"
   ]
  },
  {
   "cell_type": "code",
   "execution_count": 38,
   "metadata": {},
   "outputs": [
    {
     "name": "stdout",
     "output_type": "stream",
     "text": [
      "Downloaded 2265 rows of data.\n"
     ]
    }
   ],
   "source": [
    "asset_df = yf.download(ASSETS,\n",
    "                       start=START_DATE,\n",
    "                       end=END_DATE,\n",
    "                       adjusted=True,\n",
    "                       progress=False)\n",
    "\n",
    "print(f'Downloaded {asset_df.shape[0]} rows of data.')"
   ]
  },
  {
   "cell_type": "markdown",
   "metadata": {},
   "source": [
    "Riskli varlıkların aylık getirilerinin hesaplanması:"
   ]
  },
  {
   "cell_type": "code",
   "execution_count": 39,
   "metadata": {},
   "outputs": [],
   "source": [
    "asset_df = asset_df['Adj Close'].resample('M') \\\n",
    "                                .last() \\\n",
    "                                .pct_change() \\\n",
    "                                .dropna()\n",
    "# reformat index for joining\n",
    "asset_df.index = asset_df.index.strftime('%Y-%m')"
   ]
  },
  {
   "cell_type": "markdown",
   "metadata": {},
   "source": [
    "Portfolyo getirilerinin hesaplanması:"
   ]
  },
  {
   "cell_type": "code",
   "execution_count": 42,
   "metadata": {},
   "outputs": [
    {
     "data": {
      "text/html": [
       "<div>\n",
       "<style scoped>\n",
       "    .dataframe tbody tr th:only-of-type {\n",
       "        vertical-align: middle;\n",
       "    }\n",
       "\n",
       "    .dataframe tbody tr th {\n",
       "        vertical-align: top;\n",
       "    }\n",
       "\n",
       "    .dataframe thead th {\n",
       "        text-align: right;\n",
       "    }\n",
       "</style>\n",
       "<table border=\"1\" class=\"dataframe\">\n",
       "  <thead>\n",
       "    <tr style=\"text-align: right;\">\n",
       "      <th></th>\n",
       "      <th>AAPL</th>\n",
       "      <th>AMZN</th>\n",
       "      <th>GOOG</th>\n",
       "      <th>MSFT</th>\n",
       "      <th>portfolio_returns</th>\n",
       "    </tr>\n",
       "  </thead>\n",
       "  <tbody>\n",
       "    <tr>\n",
       "      <th>2010-01</th>\n",
       "      <td>-0.088596</td>\n",
       "      <td>-0.067722</td>\n",
       "      <td>-0.145231</td>\n",
       "      <td>-0.075459</td>\n",
       "      <td>-0.094252</td>\n",
       "    </tr>\n",
       "    <tr>\n",
       "      <th>2010-02</th>\n",
       "      <td>0.065396</td>\n",
       "      <td>-0.055897</td>\n",
       "      <td>-0.005925</td>\n",
       "      <td>0.022146</td>\n",
       "      <td>0.006430</td>\n",
       "    </tr>\n",
       "    <tr>\n",
       "      <th>2010-03</th>\n",
       "      <td>0.148470</td>\n",
       "      <td>0.146706</td>\n",
       "      <td>0.076538</td>\n",
       "      <td>0.021625</td>\n",
       "      <td>0.098335</td>\n",
       "    </tr>\n",
       "    <tr>\n",
       "      <th>2010-04</th>\n",
       "      <td>0.111021</td>\n",
       "      <td>0.009796</td>\n",
       "      <td>-0.073036</td>\n",
       "      <td>0.042677</td>\n",
       "      <td>0.022615</td>\n",
       "    </tr>\n",
       "    <tr>\n",
       "      <th>2010-05</th>\n",
       "      <td>-0.016124</td>\n",
       "      <td>-0.084902</td>\n",
       "      <td>-0.076222</td>\n",
       "      <td>-0.151394</td>\n",
       "      <td>-0.082161</td>\n",
       "    </tr>\n",
       "  </tbody>\n",
       "</table>\n",
       "</div>"
      ],
      "text/plain": [
       "             AAPL      AMZN      GOOG      MSFT  portfolio_returns\n",
       "2010-01 -0.088596 -0.067722 -0.145231 -0.075459          -0.094252\n",
       "2010-02  0.065396 -0.055897 -0.005925  0.022146           0.006430\n",
       "2010-03  0.148470  0.146706  0.076538  0.021625           0.098335\n",
       "2010-04  0.111021  0.009796 -0.073036  0.042677           0.022615\n",
       "2010-05 -0.016124 -0.084902 -0.076222 -0.151394          -0.082161"
      ]
     },
     "execution_count": 42,
     "metadata": {},
     "output_type": "execute_result"
    }
   ],
   "source": [
    "asset_df['portfolio_returns'] = np.matmul(asset_df[ASSETS].values, \n",
    "                                          WEIGHTS)\n",
    "asset_df.head()"
   ]
  },
  {
   "cell_type": "code",
   "execution_count": 43,
   "metadata": {},
   "outputs": [
    {
     "data": {
      "text/plain": [
       "<matplotlib.axes._subplots.AxesSubplot at 0x2994fe465c0>"
      ]
     },
     "execution_count": 43,
     "metadata": {},
     "output_type": "execute_result"
    },
    {
     "data": {
      "image/png": "[encoded data removed]",
      "text/plain": [
       "<Figure size 432x288 with 1 Axes>"
      ]
     },
     "metadata": {
      "image/png": {
       "height": 248,
       "width": 375
      },
      "needs_background": "light"
     },
     "output_type": "display_data"
    }
   ],
   "source": [
    "asset_df.plot()"
   ]
  },
  {
   "cell_type": "markdown",
   "metadata": {},
   "source": [
    "Verisetlerinin birleştirilmesi:"
   ]
  },
  {
   "cell_type": "code",
   "execution_count": 44,
   "metadata": {},
   "outputs": [],
   "source": [
    "ff_data = asset_df.join(df_three_factor).drop(ASSETS, axis=1)\n",
    "ff_data.columns = ['portf_rtn', 'mkt', 'smb', 'hml', 'rf']\n",
    "ff_data['portf_ex_rtn'] = ff_data.portf_rtn - ff_data.rf"
   ]
  },
  {
   "cell_type": "code",
   "execution_count": 45,
   "metadata": {},
   "outputs": [
    {
     "data": {
      "text/html": [
       "<div>\n",
       "<style scoped>\n",
       "    .dataframe tbody tr th:only-of-type {\n",
       "        vertical-align: middle;\n",
       "    }\n",
       "\n",
       "    .dataframe tbody tr th {\n",
       "        vertical-align: top;\n",
       "    }\n",
       "\n",
       "    .dataframe thead th {\n",
       "        text-align: right;\n",
       "    }\n",
       "</style>\n",
       "<table border=\"1\" class=\"dataframe\">\n",
       "  <thead>\n",
       "    <tr style=\"text-align: right;\">\n",
       "      <th></th>\n",
       "      <th>portf_rtn</th>\n",
       "      <th>mkt</th>\n",
       "      <th>smb</th>\n",
       "      <th>hml</th>\n",
       "      <th>rf</th>\n",
       "      <th>portf_ex_rtn</th>\n",
       "    </tr>\n",
       "  </thead>\n",
       "  <tbody>\n",
       "    <tr>\n",
       "      <th>2010-01</th>\n",
       "      <td>-0.094252</td>\n",
       "      <td>-0.0336</td>\n",
       "      <td>0.0038</td>\n",
       "      <td>0.0030</td>\n",
       "      <td>0.0000</td>\n",
       "      <td>-0.094252</td>\n",
       "    </tr>\n",
       "    <tr>\n",
       "      <th>2010-02</th>\n",
       "      <td>0.006430</td>\n",
       "      <td>0.0340</td>\n",
       "      <td>0.0121</td>\n",
       "      <td>0.0316</td>\n",
       "      <td>0.0000</td>\n",
       "      <td>0.006430</td>\n",
       "    </tr>\n",
       "    <tr>\n",
       "      <th>2010-03</th>\n",
       "      <td>0.098335</td>\n",
       "      <td>0.0631</td>\n",
       "      <td>0.0143</td>\n",
       "      <td>0.0211</td>\n",
       "      <td>0.0001</td>\n",
       "      <td>0.098235</td>\n",
       "    </tr>\n",
       "    <tr>\n",
       "      <th>2010-04</th>\n",
       "      <td>0.022615</td>\n",
       "      <td>0.0200</td>\n",
       "      <td>0.0497</td>\n",
       "      <td>0.0281</td>\n",
       "      <td>0.0001</td>\n",
       "      <td>0.022515</td>\n",
       "    </tr>\n",
       "    <tr>\n",
       "      <th>2010-05</th>\n",
       "      <td>-0.082161</td>\n",
       "      <td>-0.0789</td>\n",
       "      <td>0.0005</td>\n",
       "      <td>-0.0238</td>\n",
       "      <td>0.0001</td>\n",
       "      <td>-0.082261</td>\n",
       "    </tr>\n",
       "  </tbody>\n",
       "</table>\n",
       "</div>"
      ],
      "text/plain": [
       "         portf_rtn     mkt     smb     hml      rf  portf_ex_rtn\n",
       "2010-01  -0.094252 -0.0336  0.0038  0.0030  0.0000     -0.094252\n",
       "2010-02   0.006430  0.0340  0.0121  0.0316  0.0000      0.006430\n",
       "2010-03   0.098335  0.0631  0.0143  0.0211  0.0001      0.098235\n",
       "2010-04   0.022615  0.0200  0.0497  0.0281  0.0001      0.022515\n",
       "2010-05  -0.082161 -0.0789  0.0005 -0.0238  0.0001     -0.082261"
      ]
     },
     "execution_count": 45,
     "metadata": {},
     "output_type": "execute_result"
    }
   ],
   "source": [
    "ff_data.head()"
   ]
  },
  {
   "cell_type": "markdown",
   "metadata": {},
   "source": [
    "Hareketli n-faktör modelinin tanımlanması:"
   ]
  },
  {
   "cell_type": "code",
   "execution_count": 46,
   "metadata": {},
   "outputs": [],
   "source": [
    "def rolling_factor_model(input_data, formula, window_size):\n",
    "    '''\n",
    "    Function for estimating the Fama-French (n-factor) model using a rolling window of fixed size.\n",
    "    \n",
    "    Parameters\n",
    "    ------------\n",
    "    input_data : pd.DataFrame\n",
    "        A DataFrame containing the factors and asset/portfolio returns\n",
    "    formula : str\n",
    "        `statsmodels` compatible formula representing the OLS regression  \n",
    "    window_size : int\n",
    "        Rolling window length.\n",
    "    \n",
    "    Returns\n",
    "    -----------\n",
    "    coeffs_df : pd.DataFrame\n",
    "        DataFrame containing the intercept and the three factors for each iteration.\n",
    "    '''\n",
    "\n",
    "    coeffs = []\n",
    "\n",
    "    for start_index in range(len(input_data) - window_size + 1):        \n",
    "        end_index = start_index + window_size\n",
    "\n",
    "        # define and fit the regression model \n",
    "        ff_model = smf.ols(\n",
    "            formula=formula, \n",
    "            data=input_data[start_index:end_index]\n",
    "        ).fit()\n",
    "   \n",
    "        # store coefficients\n",
    "        coeffs.append(ff_model.params)\n",
    "    \n",
    "    coeffs_df = pd.DataFrame(\n",
    "        coeffs, \n",
    "        index=input_data.index[window_size - 1:]\n",
    "    )\n",
    "\n",
    "    return coeffs_df"
   ]
  },
  {
   "cell_type": "markdown",
   "metadata": {},
   "source": [
    "Hareketli üç faktör modelinin tahmin edilip sonuçlarının çizdirilmesi:"
   ]
  },
  {
   "cell_type": "code",
   "execution_count": 47,
   "metadata": {},
   "outputs": [
    {
     "data": {
      "image/png": "[encoded data removed]",
      "text/plain": [
       "<Figure size 432x288 with 1 Axes>"
      ]
     },
     "metadata": {
      "image/png": {
       "height": 282,
       "width": 424
      },
      "needs_background": "light"
     },
     "output_type": "display_data"
    }
   ],
   "source": [
    "MODEL_FORMULA = 'portf_ex_rtn ~ mkt + smb + hml'\n",
    "results_df = rolling_factor_model(ff_data, \n",
    "                                  MODEL_FORMULA, \n",
    "                                  window_size=60)\n",
    "results_df.plot(title = 'Rolling Fama-French Three-Factor model')\n",
    "\n",
    "plt.tight_layout()\n",
    "# plt.savefig('images/ch4_im8.png')\n",
    "plt.show()"
   ]
  },
  {
   "cell_type": "markdown",
   "metadata": {},
   "source": [
    "Grafiği inceleyerek aşağıdakileri görebiliriz:\n",
    "* Sabit, neredeyse sabittir ve 0'a çok yakındır.\n",
    "* Faktörlerde bazı değişkenlikler vardır, ancak ani ters dönüşler veya beklenmedik sıçramalar yoktur."
   ]
  },
  {
   "cell_type": "markdown",
   "metadata": {},
   "source": [
    "# 4.Dört ve Beş Faktör Modelleri"
   ]
  },
  {
   "cell_type": "markdown",
   "metadata": {},
   "source": [
    "Burada standart Fama-French modelinin iki uzantısı ele alınacaktır:\n",
    "\n",
    "* **Carhart'ın Dört Faktör Modeli**: Bu uzantının altında yatan varsayım, kısa bir süre içinde bir kazanan stokun bir kazanan olarak kalacağı, bir kaybedenin ise bir kaybeden olarak kalacağıdır. Kazananları ve kaybedenleri sınıflandırmak için bir ölçüt örneği, son 12 aylık birikimli toplam getiri olabilir. İki grubu belirledikten sonra, kazananları özlüyoruz ve belirli bir bekleme süresi içinde kaybedenleri kısaltıyoruz.\n",
    "\n",
    "* **Momentum faktörü (WML; Kazananlar Eksi Kaybedenler-winners minus losers)** son 12 ay içinde kazanan hisse senetlerinin kaybeden hisse senetlerinin aşırı getirilerini ölçer.\n",
    "\n",
    "Dört faktör modeli aşağıdaki gibi ifade edilebilir:\n",
    "\n",
    "$$E\\left(r_{i}\\right)-r_{f}=\\alpha+\\beta_{m k t} M K T+\\beta_{s m b} S M B+\\beta_{h m l} H M L+\\beta_{w m l} W M L$$"
   ]
  },
  {
   "cell_type": "markdown",
   "metadata": {},
   "source": [
    "Fama-French beş faktör modeli: Fama ve French üç faktör modellerine iki faktörü daha dahil ederler:\n",
    "\n",
    "* **Sağlam Eksi Zayıf (Robust Minus Weak-RMW):**, yüksek kar marjına (sağlam kârlılık) sahip şirketlerin, düşük karlı (zayıf kârlılık) olanlara göre fazla getirilerini ölçer.\n",
    "* **Korumacı Eksi Agresif (Conservative Minus Weak-CMA)**, daha düşük yatırım politikaları (korumacı) olan firmaların daha fazla yatırım yapan (agresif) şirketlerden fazla getirisini ölçer.\n",
    "\n",
    "$$E\\left(r_{i}\\right)-r_{f}=\\alpha+\\beta_{m k t} M K T+\\beta_{s m b} S M B+\\beta_{h m l} H M L+\\beta_{r m w} R M W+\\beta_{c m a} C M A$$\n",
    "\n",
    "Tüm faktör modellerinde olduğu gibi, risk faktörlerine maruz kalma beklenen getirilerdeki tüm olası değişiklikleri yakalarsa, tüm varlıklar / portföyler için sabit(α) sıfıra eşit olmalıdır."
   ]
  },
  {
   "cell_type": "markdown",
   "metadata": {},
   "source": [
    "Burada Amazon 2014-2018 periyodu için dört ve beş faktör modelleri ele alınacaktır."
   ]
  },
  {
   "cell_type": "markdown",
   "metadata": {},
   "source": [
    "Kütüphanelerin çağırılması:"
   ]
  },
  {
   "cell_type": "code",
   "execution_count": 48,
   "metadata": {},
   "outputs": [],
   "source": [
    "import pandas as pd\n",
    "import yfinance as yf\n",
    "import statsmodels.formula.api as smf\n",
    "import pandas_datareader.data as web"
   ]
  },
  {
   "cell_type": "markdown",
   "metadata": {},
   "source": [
    "Riskli varlık ve zaman periyodunun belirlenmesi:"
   ]
  },
  {
   "cell_type": "code",
   "execution_count": 49,
   "metadata": {},
   "outputs": [],
   "source": [
    "RISKY_ASSET = 'AMZN'\n",
    "START_DATE = '2013-12-31'\n",
    "END_DATE = '2018-12-31'"
   ]
  },
  {
   "cell_type": "markdown",
   "metadata": {},
   "source": [
    "French'in web sitesinden risk faktörlerinin alınması:"
   ]
  },
  {
   "cell_type": "code",
   "execution_count": 50,
   "metadata": {},
   "outputs": [],
   "source": [
    "# three factors \n",
    "df_three_factor = web.DataReader('F-F_Research_Data_Factors', 'famafrench', \n",
    "                                 start=START_DATE)[0]\n",
    "df_three_factor.index = df_three_factor.index.format()\n",
    "\n",
    "# momentum factor\n",
    "df_mom = web.DataReader('F-F_Momentum_Factor', 'famafrench', \n",
    "                        start=START_DATE)[0]\n",
    "df_mom.index = df_mom.index.format()\n",
    "\n",
    "# five factors\n",
    "df_five_factor = web.DataReader('F-F_Research_Data_5_Factors_2x3', \n",
    "                                'famafrench', \n",
    "                                start=START_DATE)[0]\n",
    "df_five_factor.index = df_five_factor.index.format()"
   ]
  },
  {
   "cell_type": "markdown",
   "metadata": {},
   "source": [
    "Yahoo finanstan riskli varlığın alınması:"
   ]
  },
  {
   "cell_type": "code",
   "execution_count": 51,
   "metadata": {},
   "outputs": [
    {
     "name": "stdout",
     "output_type": "stream",
     "text": [
      "Downloaded 1259 rows of data.\n"
     ]
    }
   ],
   "source": [
    "asset_df = yf.download(RISKY_ASSET,\n",
    "                       start=START_DATE,\n",
    "                       end=END_DATE,\n",
    "                       adjusted=True,\n",
    "                       progress=False)\n",
    "\n",
    "print(f'Downloaded {asset_df.shape[0]} rows of data.')"
   ]
  },
  {
   "cell_type": "markdown",
   "metadata": {},
   "source": [
    "Aylık getirilerin hesaplanması:"
   ]
  },
  {
   "cell_type": "code",
   "execution_count": 52,
   "metadata": {},
   "outputs": [],
   "source": [
    "y = asset_df['Adj Close'].resample('M') \\\n",
    "                         .last() \\\n",
    "                         .pct_change() \\\n",
    "                         .dropna()\n",
    "\n",
    "y.index = y.index.strftime('%Y-%m')\n",
    "y.name = 'return'"
   ]
  },
  {
   "cell_type": "markdown",
   "metadata": {},
   "source": [
    "Dört faktör modeli için verisetlerin birleştirilmesi:"
   ]
  },
  {
   "cell_type": "code",
   "execution_count": 53,
   "metadata": {},
   "outputs": [
    {
     "data": {
      "text/html": [
       "<div>\n",
       "<style scoped>\n",
       "    .dataframe tbody tr th:only-of-type {\n",
       "        vertical-align: middle;\n",
       "    }\n",
       "\n",
       "    .dataframe tbody tr th {\n",
       "        vertical-align: top;\n",
       "    }\n",
       "\n",
       "    .dataframe thead th {\n",
       "        text-align: right;\n",
       "    }\n",
       "</style>\n",
       "<table border=\"1\" class=\"dataframe\">\n",
       "  <thead>\n",
       "    <tr style=\"text-align: right;\">\n",
       "      <th></th>\n",
       "      <th>mkt</th>\n",
       "      <th>smb</th>\n",
       "      <th>hml</th>\n",
       "      <th>rf</th>\n",
       "      <th>mom</th>\n",
       "      <th>rtn</th>\n",
       "      <th>excess_rtn</th>\n",
       "    </tr>\n",
       "  </thead>\n",
       "  <tbody>\n",
       "    <tr>\n",
       "      <th>2014-01-01</th>\n",
       "      <td>-0.0332</td>\n",
       "      <td>0.0085</td>\n",
       "      <td>-0.0209</td>\n",
       "      <td>0.0</td>\n",
       "      <td>0.0170</td>\n",
       "      <td>-0.100554</td>\n",
       "      <td>-0.100554</td>\n",
       "    </tr>\n",
       "    <tr>\n",
       "      <th>2014-02-01</th>\n",
       "      <td>0.0465</td>\n",
       "      <td>0.0034</td>\n",
       "      <td>-0.0040</td>\n",
       "      <td>0.0</td>\n",
       "      <td>0.0207</td>\n",
       "      <td>0.009507</td>\n",
       "      <td>0.009507</td>\n",
       "    </tr>\n",
       "    <tr>\n",
       "      <th>2014-03-01</th>\n",
       "      <td>0.0043</td>\n",
       "      <td>-0.0189</td>\n",
       "      <td>0.0509</td>\n",
       "      <td>0.0</td>\n",
       "      <td>-0.0334</td>\n",
       "      <td>-0.071058</td>\n",
       "      <td>-0.071058</td>\n",
       "    </tr>\n",
       "    <tr>\n",
       "      <th>2014-04-01</th>\n",
       "      <td>-0.0019</td>\n",
       "      <td>-0.0424</td>\n",
       "      <td>0.0114</td>\n",
       "      <td>0.0</td>\n",
       "      <td>-0.0386</td>\n",
       "      <td>-0.095847</td>\n",
       "      <td>-0.095847</td>\n",
       "    </tr>\n",
       "    <tr>\n",
       "      <th>2014-05-01</th>\n",
       "      <td>0.0206</td>\n",
       "      <td>-0.0186</td>\n",
       "      <td>-0.0027</td>\n",
       "      <td>0.0</td>\n",
       "      <td>0.0115</td>\n",
       "      <td>0.027685</td>\n",
       "      <td>0.027685</td>\n",
       "    </tr>\n",
       "  </tbody>\n",
       "</table>\n",
       "</div>"
      ],
      "text/plain": [
       "               mkt     smb     hml   rf     mom       rtn  excess_rtn\n",
       "2014-01-01 -0.0332  0.0085 -0.0209  0.0  0.0170 -0.100554   -0.100554\n",
       "2014-02-01  0.0465  0.0034 -0.0040  0.0  0.0207  0.009507    0.009507\n",
       "2014-03-01  0.0043 -0.0189  0.0509  0.0 -0.0334 -0.071058   -0.071058\n",
       "2014-04-01 -0.0019 -0.0424  0.0114  0.0 -0.0386 -0.095847   -0.095847\n",
       "2014-05-01  0.0206 -0.0186 -0.0027  0.0  0.0115  0.027685    0.027685"
      ]
     },
     "execution_count": 53,
     "metadata": {},
     "output_type": "execute_result"
    }
   ],
   "source": [
    "# join all datasets on the index\n",
    "four_factor_data = df_three_factor.join(df_mom).join(y)\n",
    "\n",
    "# rename columns\n",
    "four_factor_data.columns = ['mkt', 'smb', 'hml', 'rf', 'mom', 'rtn']\n",
    "\n",
    "# divide everything (except returns) by 100\n",
    "four_factor_data.loc[:, four_factor_data.columns != 'rtn'] /= 100\n",
    "\n",
    "# convert index to datetime\n",
    "four_factor_data.index = pd.to_datetime(four_factor_data.index, \n",
    "                                        format='%Y-%m')\n",
    "\n",
    "# select period of interest\n",
    "four_factor_data = four_factor_data.loc[START_DATE:END_DATE]\n",
    "\n",
    "# calculate excess returns\n",
    "four_factor_data['excess_rtn'] = four_factor_data.rtn - four_factor_data.rf\n",
    "\n",
    "four_factor_data.head()"
   ]
  },
  {
   "cell_type": "markdown",
   "metadata": {},
   "source": [
    "Beş faktör modeli için verisetlerinin birleştirilmesi:"
   ]
  },
  {
   "cell_type": "code",
   "execution_count": 54,
   "metadata": {},
   "outputs": [
    {
     "data": {
      "text/html": [
       "<div>\n",
       "<style scoped>\n",
       "    .dataframe tbody tr th:only-of-type {\n",
       "        vertical-align: middle;\n",
       "    }\n",
       "\n",
       "    .dataframe tbody tr th {\n",
       "        vertical-align: top;\n",
       "    }\n",
       "\n",
       "    .dataframe thead th {\n",
       "        text-align: right;\n",
       "    }\n",
       "</style>\n",
       "<table border=\"1\" class=\"dataframe\">\n",
       "  <thead>\n",
       "    <tr style=\"text-align: right;\">\n",
       "      <th></th>\n",
       "      <th>mkt</th>\n",
       "      <th>smb</th>\n",
       "      <th>hml</th>\n",
       "      <th>rmw</th>\n",
       "      <th>cma</th>\n",
       "      <th>rf</th>\n",
       "      <th>rtn</th>\n",
       "      <th>excess_rtn</th>\n",
       "    </tr>\n",
       "  </thead>\n",
       "  <tbody>\n",
       "    <tr>\n",
       "      <th>2014-01-01</th>\n",
       "      <td>-0.0332</td>\n",
       "      <td>0.0057</td>\n",
       "      <td>-0.0209</td>\n",
       "      <td>-0.0399</td>\n",
       "      <td>-0.0140</td>\n",
       "      <td>0.0</td>\n",
       "      <td>-0.100554</td>\n",
       "      <td>-0.100554</td>\n",
       "    </tr>\n",
       "    <tr>\n",
       "      <th>2014-02-01</th>\n",
       "      <td>0.0465</td>\n",
       "      <td>0.0015</td>\n",
       "      <td>-0.0040</td>\n",
       "      <td>-0.0026</td>\n",
       "      <td>-0.0041</td>\n",
       "      <td>0.0</td>\n",
       "      <td>0.009507</td>\n",
       "      <td>0.009507</td>\n",
       "    </tr>\n",
       "    <tr>\n",
       "      <th>2014-03-01</th>\n",
       "      <td>0.0043</td>\n",
       "      <td>-0.0117</td>\n",
       "      <td>0.0509</td>\n",
       "      <td>0.0216</td>\n",
       "      <td>0.0190</td>\n",
       "      <td>0.0</td>\n",
       "      <td>-0.071058</td>\n",
       "      <td>-0.071058</td>\n",
       "    </tr>\n",
       "    <tr>\n",
       "      <th>2014-04-01</th>\n",
       "      <td>-0.0019</td>\n",
       "      <td>-0.0415</td>\n",
       "      <td>0.0114</td>\n",
       "      <td>0.0348</td>\n",
       "      <td>0.0107</td>\n",
       "      <td>0.0</td>\n",
       "      <td>-0.095847</td>\n",
       "      <td>-0.095847</td>\n",
       "    </tr>\n",
       "    <tr>\n",
       "      <th>2014-05-01</th>\n",
       "      <td>0.0206</td>\n",
       "      <td>-0.0189</td>\n",
       "      <td>-0.0027</td>\n",
       "      <td>0.0010</td>\n",
       "      <td>-0.0108</td>\n",
       "      <td>0.0</td>\n",
       "      <td>0.027685</td>\n",
       "      <td>0.027685</td>\n",
       "    </tr>\n",
       "  </tbody>\n",
       "</table>\n",
       "</div>"
      ],
      "text/plain": [
       "               mkt     smb     hml     rmw     cma   rf       rtn  excess_rtn\n",
       "2014-01-01 -0.0332  0.0057 -0.0209 -0.0399 -0.0140  0.0 -0.100554   -0.100554\n",
       "2014-02-01  0.0465  0.0015 -0.0040 -0.0026 -0.0041  0.0  0.009507    0.009507\n",
       "2014-03-01  0.0043 -0.0117  0.0509  0.0216  0.0190  0.0 -0.071058   -0.071058\n",
       "2014-04-01 -0.0019 -0.0415  0.0114  0.0348  0.0107  0.0 -0.095847   -0.095847\n",
       "2014-05-01  0.0206 -0.0189 -0.0027  0.0010 -0.0108  0.0  0.027685    0.027685"
      ]
     },
     "execution_count": 54,
     "metadata": {},
     "output_type": "execute_result"
    }
   ],
   "source": [
    "# join all datasets on the index\n",
    "five_factor_data = df_five_factor.join(y)\n",
    "\n",
    "# rename columns\n",
    "five_factor_data.columns = ['mkt', 'smb', 'hml', 'rmw', 'cma', 'rf', 'rtn']\n",
    "\n",
    "# divide everything (except returns) by 100\n",
    "five_factor_data.loc[:, five_factor_data.columns != 'rtn'] /= 100\n",
    "\n",
    "# convert index to datetime\n",
    "five_factor_data.index = pd.to_datetime(five_factor_data.index, \n",
    "                                        format='%Y-%m')\n",
    "\n",
    "# select period of interest\n",
    "five_factor_data = five_factor_data.loc[START_DATE:END_DATE]\n",
    "\n",
    "# calculate excess returns\n",
    "five_factor_data['excess_rtn'] = five_factor_data.rtn - five_factor_data.rf\n",
    "\n",
    "five_factor_data.head()"
   ]
  },
  {
   "cell_type": "markdown",
   "metadata": {},
   "source": [
    "Dört faktör modeli:"
   ]
  },
  {
   "cell_type": "code",
   "execution_count": 55,
   "metadata": {},
   "outputs": [
    {
     "name": "stdout",
     "output_type": "stream",
     "text": [
      "                            OLS Regression Results                            \n",
      "==============================================================================\n",
      "Dep. Variable:             excess_rtn   R-squared:                       0.550\n",
      "Model:                            OLS   Adj. R-squared:                  0.517\n",
      "Method:                 Least Squares   F-statistic:                     16.78\n",
      "Date:                Sun, 29 Mar 2020   Prob (F-statistic):           4.80e-09\n",
      "Time:                        12:17:03   Log-Likelihood:                 86.247\n",
      "No. Observations:                  60   AIC:                            -162.5\n",
      "Df Residuals:                      55   BIC:                            -152.0\n",
      "Df Model:                           4                                         \n",
      "Covariance Type:            nonrobust                                         \n",
      "==============================================================================\n",
      "                 coef    std err          t      P>|t|      [0.025      0.975]\n",
      "------------------------------------------------------------------------------\n",
      "Intercept      0.0094      0.008      1.165      0.249      -0.007       0.025\n",
      "mkt            1.7201      0.256      6.712      0.000       1.206       2.234\n",
      "smb           -0.5549      0.315     -1.763      0.083      -1.186       0.076\n",
      "hml           -1.0762      0.391     -2.750      0.008      -1.860      -0.292\n",
      "mom            0.3247      0.294      1.103      0.275      -0.265       0.914\n",
      "==============================================================================\n",
      "Omnibus:                        5.011   Durbin-Watson:                   1.700\n",
      "Prob(Omnibus):                  0.082   Jarque-Bera (JB):                4.582\n",
      "Skew:                           0.677   Prob(JB):                        0.101\n",
      "Kurtosis:                       3.031   Cond. No.                         57.6\n",
      "==============================================================================\n",
      "\n",
      "Warnings:\n",
      "[1] Standard Errors assume that the covariance matrix of the errors is correctly specified.\n"
     ]
    }
   ],
   "source": [
    "four_factor_model = smf.ols(formula='excess_rtn ~ mkt + smb + hml + mom', \n",
    "                            data=four_factor_data).fit()\n",
    "\n",
    "print(four_factor_model.summary())"
   ]
  },
  {
   "cell_type": "markdown",
   "metadata": {},
   "source": [
    "Beş faktör modeli:"
   ]
  },
  {
   "cell_type": "code",
   "execution_count": 56,
   "metadata": {},
   "outputs": [
    {
     "name": "stdout",
     "output_type": "stream",
     "text": [
      "                            OLS Regression Results                            \n",
      "==============================================================================\n",
      "Dep. Variable:             excess_rtn   R-squared:                       0.595\n",
      "Model:                            OLS   Adj. R-squared:                  0.557\n",
      "Method:                 Least Squares   F-statistic:                     15.85\n",
      "Date:                Sun, 29 Mar 2020   Prob (F-statistic):           1.38e-09\n",
      "Time:                        12:17:57   Log-Likelihood:                 89.416\n",
      "No. Observations:                  60   AIC:                            -166.8\n",
      "Df Residuals:                      54   BIC:                            -154.3\n",
      "Df Model:                           5                                         \n",
      "Covariance Type:            nonrobust                                         \n",
      "==============================================================================\n",
      "                 coef    std err          t      P>|t|      [0.025      0.975]\n",
      "------------------------------------------------------------------------------\n",
      "Intercept      0.0101      0.008      1.308      0.196      -0.005       0.025\n",
      "mkt            1.5506      0.246      6.303      0.000       1.057       2.044\n",
      "smb           -0.7825      0.342     -2.288      0.026      -1.468      -0.097\n",
      "hml           -0.5931      0.423     -1.402      0.167      -1.441       0.255\n",
      "rmw           -0.7020      0.571     -1.229      0.224      -1.847       0.443\n",
      "cma           -1.4400      0.695     -2.073      0.043      -2.833      -0.047\n",
      "==============================================================================\n",
      "Omnibus:                        1.883   Durbin-Watson:                   1.733\n",
      "Prob(Omnibus):                  0.390   Jarque-Bera (JB):                1.488\n",
      "Skew:                           0.386   Prob(JB):                        0.475\n",
      "Kurtosis:                       3.014   Cond. No.                         105.\n",
      "==============================================================================\n",
      "\n",
      "Warnings:\n",
      "[1] Standard Errors assume that the covariance matrix of the errors is correctly specified.\n"
     ]
    }
   ],
   "source": [
    "five_factor_model = smf.ols(\n",
    "    formula='excess_rtn ~ mkt + smb + hml + rmw + cma', \n",
    "    data=five_factor_data\n",
    ").fit()\n",
    "\n",
    "print(five_factor_model.summary())"
   ]
  },
  {
   "cell_type": "markdown",
   "metadata": {},
   "source": [
    "Beş faktörlü modele göre, Amazon'un aşırı getirileri çoğu faktöre (piyasa faktörü hariç tümü) olumsuz olarak maruz kalmaktadır. Burada, katsayıların yorumlanmasına bir örnek sunmaktayız: piyasa faktörünün yüzde 1 puanlık bir artış 0,015 p.p. Başka bir deyişle, piyasa faktörünün% 1'lik bir getiri için portföyümüzün (Amazon'un hisse senedi) risksiz oranın üzerinde% 1.5508*% 1 oranında dönmesini bekleyebiliriz."
   ]
  },
  {
   "cell_type": "code",
   "execution_count": null,
   "metadata": {},
   "outputs": [],
   "source": []
  },
  {
   "cell_type": "code",
   "execution_count": null,
   "metadata": {},
   "outputs": [],
   "source": []
  },
  {
   "cell_type": "code",
   "execution_count": null,
   "metadata": {},
   "outputs": [],
   "source": []
  },
  {
   "cell_type": "code",
   "execution_count": null,
   "metadata": {},
   "outputs": [],
   "source": []
  },
  {
   "cell_type": "code",
   "execution_count": null,
   "metadata": {},
   "outputs": [],
   "source": []
  }
 ],
 "metadata": {
  "kernelspec": {
   "display_name": "Python 3",
   "language": "python",
   "name": "python3"
  },
  "language_info": {
   "codemirror_mode": {
    "name": "ipython",
    "version": 3
   },
   "file_extension": ".py",
   "mimetype": "text/x-python",
   "name": "python",
   "nbconvert_exporter": "python",
   "pygments_lexer": "ipython3",
   "version": "3.7.1"
  }
 },
 "nbformat": 4,
 "nbformat_minor": 2
}
